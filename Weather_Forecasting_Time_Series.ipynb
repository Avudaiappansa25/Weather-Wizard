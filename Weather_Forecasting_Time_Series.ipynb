{
 "cells": [
  {
   "cell_type": "markdown",
   "metadata": {
    "papermill": {
     "duration": 0.03558,
     "end_time": "2021-02-28T15:27:10.127323",
     "exception": false,
     "start_time": "2021-02-28T15:27:10.091743",
     "status": "completed"
    },
    "tags": []
   },
   "source": [
    "# Delhi Weather Forecasting"
   ]
  },
  {
   "cell_type": "markdown",
   "metadata": {
    "papermill": {
     "duration": 0.034318,
     "end_time": "2021-02-28T15:27:10.335217",
     "exception": false,
     "start_time": "2021-02-28T15:27:10.300899",
     "status": "completed"
    },
    "tags": []
   },
   "source": [
    "**Loading the basic libraries**"
   ]
  },
  {
   "cell_type": "code",
   "execution_count": 1,
   "metadata": {
    "_cell_guid": "b1076dfc-b9ad-4769-8c92-a6c4dae69d19",
    "_uuid": "8f2839f25d086af736a60e9eeb907d3b93b6e0e5",
    "execution": {
     "iopub.execute_input": "2021-02-28T15:27:10.413288Z",
     "iopub.status.busy": "2021-02-28T15:27:10.412540Z",
     "iopub.status.idle": "2021-02-28T15:27:11.529066Z",
     "shell.execute_reply": "2021-02-28T15:27:11.527525Z"
    },
    "papermill": {
     "duration": 1.159741,
     "end_time": "2021-02-28T15:27:11.529315",
     "exception": false,
     "start_time": "2021-02-28T15:27:10.369574",
     "status": "completed"
    },
    "tags": []
   },
   "outputs": [],
   "source": [
    "import pandas as pd\n",
    "import numpy as np \n",
    "import seaborn as sns\n",
    "import matplotlib.pyplot as plt\n",
    "\n",
    "import warnings\n",
    "warnings.filterwarnings('ignore')\n",
    "import statsmodels.api as sm\n",
    "from statsmodels.tsa.stattools import adfuller\n",
    "from statsmodels.tsa.seasonal import seasonal_decompose\n",
    "from statsmodels.tsa.stattools import acf, pacf\n",
    "from statsmodels.tsa.arima.model import ARIMA\n"
   ]
  },
  {
   "cell_type": "markdown",
   "metadata": {
    "papermill": {
     "duration": 0.034763,
     "end_time": "2021-02-28T15:27:11.600906",
     "exception": false,
     "start_time": "2021-02-28T15:27:11.566143",
     "status": "completed"
    },
    "tags": []
   },
   "source": [
    "**Loading Delhi Weather data set**"
   ]
  },
  {
   "cell_type": "code",
   "execution_count": 2,
   "metadata": {
    "execution": {
     "iopub.execute_input": "2021-02-28T15:27:11.676227Z",
     "iopub.status.busy": "2021-02-28T15:27:11.675552Z",
     "iopub.status.idle": "2021-02-28T15:27:12.068594Z",
     "shell.execute_reply": "2021-02-28T15:27:12.067484Z"
    },
    "papermill": {
     "duration": 0.432935,
     "end_time": "2021-02-28T15:27:12.068801",
     "exception": false,
     "start_time": "2021-02-28T15:27:11.635866",
     "status": "completed"
    },
    "tags": []
   },
   "outputs": [],
   "source": [
    "weather = pd.read_csv(r\"testset.csv\")"
   ]
  },
  {
   "cell_type": "markdown",
   "metadata": {
    "papermill": {
     "duration": 0.034624,
     "end_time": "2021-02-28T15:27:12.138893",
     "exception": false,
     "start_time": "2021-02-28T15:27:12.104269",
     "status": "completed"
    },
    "tags": []
   },
   "source": [
    "**Let's check first 5 and last 5 records of data set**"
   ]
  },
  {
   "cell_type": "code",
   "execution_count": 3,
   "metadata": {
    "execution": {
     "iopub.execute_input": "2021-02-28T15:27:12.224885Z",
     "iopub.status.busy": "2021-02-28T15:27:12.223096Z",
     "iopub.status.idle": "2021-02-28T15:27:12.338465Z",
     "shell.execute_reply": "2021-02-28T15:27:12.338981Z"
    },
    "papermill": {
     "duration": 0.16524,
     "end_time": "2021-02-28T15:27:12.339156",
     "exception": false,
     "start_time": "2021-02-28T15:27:12.173916",
     "status": "completed"
    },
    "tags": []
   },
   "outputs": [
    {
     "data": {
      "text/html": [
       "<div>\n",
       "<style scoped>\n",
       "    .dataframe tbody tr th:only-of-type {\n",
       "        vertical-align: middle;\n",
       "    }\n",
       "\n",
       "    .dataframe tbody tr th {\n",
       "        vertical-align: top;\n",
       "    }\n",
       "\n",
       "    .dataframe thead th {\n",
       "        text-align: right;\n",
       "    }\n",
       "</style>\n",
       "<table border=\"1\" class=\"dataframe\">\n",
       "  <thead>\n",
       "    <tr style=\"text-align: right;\">\n",
       "      <th></th>\n",
       "      <th>datetime_utc</th>\n",
       "      <th>_conds</th>\n",
       "      <th>_dewptm</th>\n",
       "      <th>_fog</th>\n",
       "      <th>_hail</th>\n",
       "      <th>_heatindexm</th>\n",
       "      <th>_hum</th>\n",
       "      <th>_precipm</th>\n",
       "      <th>_pressurem</th>\n",
       "      <th>_rain</th>\n",
       "      <th>_snow</th>\n",
       "      <th>_tempm</th>\n",
       "      <th>_thunder</th>\n",
       "      <th>_tornado</th>\n",
       "      <th>_vism</th>\n",
       "      <th>_wdird</th>\n",
       "      <th>_wdire</th>\n",
       "      <th>_wgustm</th>\n",
       "      <th>_windchillm</th>\n",
       "      <th>_wspdm</th>\n",
       "    </tr>\n",
       "  </thead>\n",
       "  <tbody>\n",
       "    <tr>\n",
       "      <th>0</th>\n",
       "      <td>19961101-11:00</td>\n",
       "      <td>Smoke</td>\n",
       "      <td>9.0</td>\n",
       "      <td>0</td>\n",
       "      <td>0</td>\n",
       "      <td>NaN</td>\n",
       "      <td>27.0</td>\n",
       "      <td>NaN</td>\n",
       "      <td>1010.0</td>\n",
       "      <td>0</td>\n",
       "      <td>0</td>\n",
       "      <td>30.0</td>\n",
       "      <td>0</td>\n",
       "      <td>0</td>\n",
       "      <td>5.0</td>\n",
       "      <td>280.0</td>\n",
       "      <td>West</td>\n",
       "      <td>NaN</td>\n",
       "      <td>NaN</td>\n",
       "      <td>7.4</td>\n",
       "    </tr>\n",
       "    <tr>\n",
       "      <th>1</th>\n",
       "      <td>19961101-12:00</td>\n",
       "      <td>Smoke</td>\n",
       "      <td>10.0</td>\n",
       "      <td>0</td>\n",
       "      <td>0</td>\n",
       "      <td>NaN</td>\n",
       "      <td>32.0</td>\n",
       "      <td>NaN</td>\n",
       "      <td>-9999.0</td>\n",
       "      <td>0</td>\n",
       "      <td>0</td>\n",
       "      <td>28.0</td>\n",
       "      <td>0</td>\n",
       "      <td>0</td>\n",
       "      <td>NaN</td>\n",
       "      <td>0.0</td>\n",
       "      <td>North</td>\n",
       "      <td>NaN</td>\n",
       "      <td>NaN</td>\n",
       "      <td>NaN</td>\n",
       "    </tr>\n",
       "    <tr>\n",
       "      <th>2</th>\n",
       "      <td>19961101-13:00</td>\n",
       "      <td>Smoke</td>\n",
       "      <td>11.0</td>\n",
       "      <td>0</td>\n",
       "      <td>0</td>\n",
       "      <td>NaN</td>\n",
       "      <td>44.0</td>\n",
       "      <td>NaN</td>\n",
       "      <td>-9999.0</td>\n",
       "      <td>0</td>\n",
       "      <td>0</td>\n",
       "      <td>24.0</td>\n",
       "      <td>0</td>\n",
       "      <td>0</td>\n",
       "      <td>NaN</td>\n",
       "      <td>0.0</td>\n",
       "      <td>North</td>\n",
       "      <td>NaN</td>\n",
       "      <td>NaN</td>\n",
       "      <td>NaN</td>\n",
       "    </tr>\n",
       "    <tr>\n",
       "      <th>3</th>\n",
       "      <td>19961101-14:00</td>\n",
       "      <td>Smoke</td>\n",
       "      <td>10.0</td>\n",
       "      <td>0</td>\n",
       "      <td>0</td>\n",
       "      <td>NaN</td>\n",
       "      <td>41.0</td>\n",
       "      <td>NaN</td>\n",
       "      <td>1010.0</td>\n",
       "      <td>0</td>\n",
       "      <td>0</td>\n",
       "      <td>24.0</td>\n",
       "      <td>0</td>\n",
       "      <td>0</td>\n",
       "      <td>2.0</td>\n",
       "      <td>0.0</td>\n",
       "      <td>North</td>\n",
       "      <td>NaN</td>\n",
       "      <td>NaN</td>\n",
       "      <td>NaN</td>\n",
       "    </tr>\n",
       "    <tr>\n",
       "      <th>4</th>\n",
       "      <td>19961101-16:00</td>\n",
       "      <td>Smoke</td>\n",
       "      <td>11.0</td>\n",
       "      <td>0</td>\n",
       "      <td>0</td>\n",
       "      <td>NaN</td>\n",
       "      <td>47.0</td>\n",
       "      <td>NaN</td>\n",
       "      <td>1011.0</td>\n",
       "      <td>0</td>\n",
       "      <td>0</td>\n",
       "      <td>23.0</td>\n",
       "      <td>0</td>\n",
       "      <td>0</td>\n",
       "      <td>1.2</td>\n",
       "      <td>0.0</td>\n",
       "      <td>North</td>\n",
       "      <td>NaN</td>\n",
       "      <td>NaN</td>\n",
       "      <td>0.0</td>\n",
       "    </tr>\n",
       "  </tbody>\n",
       "</table>\n",
       "</div>"
      ],
      "text/plain": [
       "     datetime_utc  _conds   _dewptm   _fog   _hail   _heatindexm   _hum  \\\n",
       "0  19961101-11:00   Smoke       9.0      0       0           NaN   27.0   \n",
       "1  19961101-12:00   Smoke      10.0      0       0           NaN   32.0   \n",
       "2  19961101-13:00   Smoke      11.0      0       0           NaN   44.0   \n",
       "3  19961101-14:00   Smoke      10.0      0       0           NaN   41.0   \n",
       "4  19961101-16:00   Smoke      11.0      0       0           NaN   47.0   \n",
       "\n",
       "    _precipm   _pressurem   _rain   _snow   _tempm   _thunder   _tornado  \\\n",
       "0        NaN       1010.0       0       0     30.0          0          0   \n",
       "1        NaN      -9999.0       0       0     28.0          0          0   \n",
       "2        NaN      -9999.0       0       0     24.0          0          0   \n",
       "3        NaN       1010.0       0       0     24.0          0          0   \n",
       "4        NaN       1011.0       0       0     23.0          0          0   \n",
       "\n",
       "    _vism   _wdird  _wdire   _wgustm   _windchillm   _wspdm  \n",
       "0     5.0    280.0    West       NaN           NaN      7.4  \n",
       "1     NaN      0.0   North       NaN           NaN      NaN  \n",
       "2     NaN      0.0   North       NaN           NaN      NaN  \n",
       "3     2.0      0.0   North       NaN           NaN      NaN  \n",
       "4     1.2      0.0   North       NaN           NaN      0.0  "
      ]
     },
     "execution_count": 3,
     "metadata": {},
     "output_type": "execute_result"
    }
   ],
   "source": [
    "weather.head(5)"
   ]
  },
  {
   "cell_type": "code",
   "execution_count": 4,
   "metadata": {
    "execution": {
     "iopub.execute_input": "2021-02-28T15:27:12.414230Z",
     "iopub.status.busy": "2021-02-28T15:27:12.413555Z",
     "iopub.status.idle": "2021-02-28T15:27:12.437203Z",
     "shell.execute_reply": "2021-02-28T15:27:12.436561Z"
    },
    "papermill": {
     "duration": 0.061792,
     "end_time": "2021-02-28T15:27:12.437346",
     "exception": false,
     "start_time": "2021-02-28T15:27:12.375554",
     "status": "completed"
    },
    "tags": []
   },
   "outputs": [
    {
     "data": {
      "text/html": [
       "<div>\n",
       "<style scoped>\n",
       "    .dataframe tbody tr th:only-of-type {\n",
       "        vertical-align: middle;\n",
       "    }\n",
       "\n",
       "    .dataframe tbody tr th {\n",
       "        vertical-align: top;\n",
       "    }\n",
       "\n",
       "    .dataframe thead th {\n",
       "        text-align: right;\n",
       "    }\n",
       "</style>\n",
       "<table border=\"1\" class=\"dataframe\">\n",
       "  <thead>\n",
       "    <tr style=\"text-align: right;\">\n",
       "      <th></th>\n",
       "      <th>datetime_utc</th>\n",
       "      <th>_conds</th>\n",
       "      <th>_dewptm</th>\n",
       "      <th>_fog</th>\n",
       "      <th>_hail</th>\n",
       "      <th>_heatindexm</th>\n",
       "      <th>_hum</th>\n",
       "      <th>_precipm</th>\n",
       "      <th>_pressurem</th>\n",
       "      <th>_rain</th>\n",
       "      <th>_snow</th>\n",
       "      <th>_tempm</th>\n",
       "      <th>_thunder</th>\n",
       "      <th>_tornado</th>\n",
       "      <th>_vism</th>\n",
       "      <th>_wdird</th>\n",
       "      <th>_wdire</th>\n",
       "      <th>_wgustm</th>\n",
       "      <th>_windchillm</th>\n",
       "      <th>_wspdm</th>\n",
       "    </tr>\n",
       "  </thead>\n",
       "  <tbody>\n",
       "    <tr>\n",
       "      <th>100985</th>\n",
       "      <td>20170424-06:00</td>\n",
       "      <td>Haze</td>\n",
       "      <td>17.0</td>\n",
       "      <td>0</td>\n",
       "      <td>0</td>\n",
       "      <td>NaN</td>\n",
       "      <td>25.0</td>\n",
       "      <td>NaN</td>\n",
       "      <td>1005.0</td>\n",
       "      <td>0</td>\n",
       "      <td>0</td>\n",
       "      <td>34.0</td>\n",
       "      <td>0</td>\n",
       "      <td>0</td>\n",
       "      <td>4.0</td>\n",
       "      <td>320.0</td>\n",
       "      <td>NW</td>\n",
       "      <td>NaN</td>\n",
       "      <td>NaN</td>\n",
       "      <td>11.1</td>\n",
       "    </tr>\n",
       "    <tr>\n",
       "      <th>100986</th>\n",
       "      <td>20170424-09:00</td>\n",
       "      <td>Haze</td>\n",
       "      <td>14.0</td>\n",
       "      <td>0</td>\n",
       "      <td>0</td>\n",
       "      <td>NaN</td>\n",
       "      <td>16.0</td>\n",
       "      <td>NaN</td>\n",
       "      <td>1003.0</td>\n",
       "      <td>0</td>\n",
       "      <td>0</td>\n",
       "      <td>38.0</td>\n",
       "      <td>0</td>\n",
       "      <td>0</td>\n",
       "      <td>4.0</td>\n",
       "      <td>320.0</td>\n",
       "      <td>NW</td>\n",
       "      <td>NaN</td>\n",
       "      <td>NaN</td>\n",
       "      <td>22.2</td>\n",
       "    </tr>\n",
       "    <tr>\n",
       "      <th>100987</th>\n",
       "      <td>20170424-12:00</td>\n",
       "      <td>Haze</td>\n",
       "      <td>12.0</td>\n",
       "      <td>0</td>\n",
       "      <td>0</td>\n",
       "      <td>NaN</td>\n",
       "      <td>14.0</td>\n",
       "      <td>NaN</td>\n",
       "      <td>1002.0</td>\n",
       "      <td>0</td>\n",
       "      <td>0</td>\n",
       "      <td>36.0</td>\n",
       "      <td>0</td>\n",
       "      <td>0</td>\n",
       "      <td>4.0</td>\n",
       "      <td>270.0</td>\n",
       "      <td>West</td>\n",
       "      <td>NaN</td>\n",
       "      <td>NaN</td>\n",
       "      <td>18.5</td>\n",
       "    </tr>\n",
       "    <tr>\n",
       "      <th>100988</th>\n",
       "      <td>20170424-15:00</td>\n",
       "      <td>Haze</td>\n",
       "      <td>15.0</td>\n",
       "      <td>0</td>\n",
       "      <td>0</td>\n",
       "      <td>NaN</td>\n",
       "      <td>27.0</td>\n",
       "      <td>NaN</td>\n",
       "      <td>1004.0</td>\n",
       "      <td>0</td>\n",
       "      <td>0</td>\n",
       "      <td>32.0</td>\n",
       "      <td>0</td>\n",
       "      <td>0</td>\n",
       "      <td>2.0</td>\n",
       "      <td>320.0</td>\n",
       "      <td>NW</td>\n",
       "      <td>NaN</td>\n",
       "      <td>NaN</td>\n",
       "      <td>3.7</td>\n",
       "    </tr>\n",
       "    <tr>\n",
       "      <th>100989</th>\n",
       "      <td>20170424-18:00</td>\n",
       "      <td>Haze</td>\n",
       "      <td>15.0</td>\n",
       "      <td>0</td>\n",
       "      <td>0</td>\n",
       "      <td>NaN</td>\n",
       "      <td>30.0</td>\n",
       "      <td>NaN</td>\n",
       "      <td>1005.0</td>\n",
       "      <td>0</td>\n",
       "      <td>0</td>\n",
       "      <td>30.0</td>\n",
       "      <td>0</td>\n",
       "      <td>0</td>\n",
       "      <td>2.0</td>\n",
       "      <td>320.0</td>\n",
       "      <td>NW</td>\n",
       "      <td>NaN</td>\n",
       "      <td>NaN</td>\n",
       "      <td>3.7</td>\n",
       "    </tr>\n",
       "  </tbody>\n",
       "</table>\n",
       "</div>"
      ],
      "text/plain": [
       "          datetime_utc  _conds   _dewptm   _fog   _hail   _heatindexm   _hum  \\\n",
       "100985  20170424-06:00    Haze      17.0      0       0           NaN   25.0   \n",
       "100986  20170424-09:00    Haze      14.0      0       0           NaN   16.0   \n",
       "100987  20170424-12:00    Haze      12.0      0       0           NaN   14.0   \n",
       "100988  20170424-15:00    Haze      15.0      0       0           NaN   27.0   \n",
       "100989  20170424-18:00    Haze      15.0      0       0           NaN   30.0   \n",
       "\n",
       "         _precipm   _pressurem   _rain   _snow   _tempm   _thunder   _tornado  \\\n",
       "100985        NaN       1005.0       0       0     34.0          0          0   \n",
       "100986        NaN       1003.0       0       0     38.0          0          0   \n",
       "100987        NaN       1002.0       0       0     36.0          0          0   \n",
       "100988        NaN       1004.0       0       0     32.0          0          0   \n",
       "100989        NaN       1005.0       0       0     30.0          0          0   \n",
       "\n",
       "         _vism   _wdird  _wdire   _wgustm   _windchillm   _wspdm  \n",
       "100985     4.0    320.0      NW       NaN           NaN     11.1  \n",
       "100986     4.0    320.0      NW       NaN           NaN     22.2  \n",
       "100987     4.0    270.0    West       NaN           NaN     18.5  \n",
       "100988     2.0    320.0      NW       NaN           NaN      3.7  \n",
       "100989     2.0    320.0      NW       NaN           NaN      3.7  "
      ]
     },
     "execution_count": 4,
     "metadata": {},
     "output_type": "execute_result"
    }
   ],
   "source": [
    "weather.tail(5)"
   ]
  },
  {
   "cell_type": "markdown",
   "metadata": {
    "papermill": {
     "duration": 0.035855,
     "end_time": "2021-02-28T15:27:12.509627",
     "exception": false,
     "start_time": "2021-02-28T15:27:12.473772",
     "status": "completed"
    },
    "tags": []
   },
   "source": [
    "### **Data Analysis**"
   ]
  },
  {
   "cell_type": "code",
   "execution_count": 5,
   "metadata": {
    "execution": {
     "iopub.execute_input": "2021-02-28T15:27:12.656206Z",
     "iopub.status.busy": "2021-02-28T15:27:12.655555Z",
     "iopub.status.idle": "2021-02-28T15:27:12.662605Z",
     "shell.execute_reply": "2021-02-28T15:27:12.663148Z"
    },
    "papermill": {
     "duration": 0.046392,
     "end_time": "2021-02-28T15:27:12.663337",
     "exception": false,
     "start_time": "2021-02-28T15:27:12.616945",
     "status": "completed"
    },
    "tags": []
   },
   "outputs": [],
   "source": [
    "weather_df = weather[['datetime_utc', ' _conds', ' _hum', ' _tempm']]"
   ]
  },
  {
   "cell_type": "code",
   "execution_count": 6,
   "metadata": {
    "execution": {
     "iopub.execute_input": "2021-02-28T15:27:12.740346Z",
     "iopub.status.busy": "2021-02-28T15:27:12.739574Z",
     "iopub.status.idle": "2021-02-28T15:27:12.751497Z",
     "shell.execute_reply": "2021-02-28T15:27:12.750974Z"
    },
    "papermill": {
     "duration": 0.05078,
     "end_time": "2021-02-28T15:27:12.751643",
     "exception": false,
     "start_time": "2021-02-28T15:27:12.700863",
     "status": "completed"
    },
    "tags": []
   },
   "outputs": [
    {
     "data": {
      "text/html": [
       "<div>\n",
       "<style scoped>\n",
       "    .dataframe tbody tr th:only-of-type {\n",
       "        vertical-align: middle;\n",
       "    }\n",
       "\n",
       "    .dataframe tbody tr th {\n",
       "        vertical-align: top;\n",
       "    }\n",
       "\n",
       "    .dataframe thead th {\n",
       "        text-align: right;\n",
       "    }\n",
       "</style>\n",
       "<table border=\"1\" class=\"dataframe\">\n",
       "  <thead>\n",
       "    <tr style=\"text-align: right;\">\n",
       "      <th></th>\n",
       "      <th>datetime_utc</th>\n",
       "      <th>_conds</th>\n",
       "      <th>_hum</th>\n",
       "      <th>_tempm</th>\n",
       "    </tr>\n",
       "  </thead>\n",
       "  <tbody>\n",
       "    <tr>\n",
       "      <th>0</th>\n",
       "      <td>19961101-11:00</td>\n",
       "      <td>Smoke</td>\n",
       "      <td>27.0</td>\n",
       "      <td>30.0</td>\n",
       "    </tr>\n",
       "    <tr>\n",
       "      <th>1</th>\n",
       "      <td>19961101-12:00</td>\n",
       "      <td>Smoke</td>\n",
       "      <td>32.0</td>\n",
       "      <td>28.0</td>\n",
       "    </tr>\n",
       "    <tr>\n",
       "      <th>2</th>\n",
       "      <td>19961101-13:00</td>\n",
       "      <td>Smoke</td>\n",
       "      <td>44.0</td>\n",
       "      <td>24.0</td>\n",
       "    </tr>\n",
       "    <tr>\n",
       "      <th>3</th>\n",
       "      <td>19961101-14:00</td>\n",
       "      <td>Smoke</td>\n",
       "      <td>41.0</td>\n",
       "      <td>24.0</td>\n",
       "    </tr>\n",
       "    <tr>\n",
       "      <th>4</th>\n",
       "      <td>19961101-16:00</td>\n",
       "      <td>Smoke</td>\n",
       "      <td>47.0</td>\n",
       "      <td>23.0</td>\n",
       "    </tr>\n",
       "  </tbody>\n",
       "</table>\n",
       "</div>"
      ],
      "text/plain": [
       "     datetime_utc  _conds   _hum   _tempm\n",
       "0  19961101-11:00   Smoke   27.0     30.0\n",
       "1  19961101-12:00   Smoke   32.0     28.0\n",
       "2  19961101-13:00   Smoke   44.0     24.0\n",
       "3  19961101-14:00   Smoke   41.0     24.0\n",
       "4  19961101-16:00   Smoke   47.0     23.0"
      ]
     },
     "execution_count": 6,
     "metadata": {},
     "output_type": "execute_result"
    }
   ],
   "source": [
    "weather_df.head()"
   ]
  },
  {
   "cell_type": "markdown",
   "metadata": {
    "papermill": {
     "duration": 0.036766,
     "end_time": "2021-02-28T15:27:12.825313",
     "exception": false,
     "start_time": "2021-02-28T15:27:12.788547",
     "status": "completed"
    },
    "tags": []
   },
   "source": [
    "**Let's rename few columns for our better understanding**"
   ]
  },
  {
   "cell_type": "code",
   "execution_count": 7,
   "metadata": {
    "execution": {
     "iopub.execute_input": "2021-02-28T15:27:12.906677Z",
     "iopub.status.busy": "2021-02-28T15:27:12.905844Z",
     "iopub.status.idle": "2021-02-28T15:27:12.909068Z",
     "shell.execute_reply": "2021-02-28T15:27:12.909555Z"
    },
    "papermill": {
     "duration": 0.04724,
     "end_time": "2021-02-28T15:27:12.909744",
     "exception": false,
     "start_time": "2021-02-28T15:27:12.862504",
     "status": "completed"
    },
    "tags": []
   },
   "outputs": [],
   "source": [
    "weather_df = weather_df.rename(columns={' _conds': 'condition', ' _hum': 'humidity', ' _tempm': 'temperature'})"
   ]
  },
  {
   "cell_type": "code",
   "execution_count": 8,
   "metadata": {
    "execution": {
     "iopub.execute_input": "2021-02-28T15:27:12.987293Z",
     "iopub.status.busy": "2021-02-28T15:27:12.986279Z",
     "iopub.status.idle": "2021-02-28T15:27:12.999524Z",
     "shell.execute_reply": "2021-02-28T15:27:12.998972Z"
    },
    "papermill": {
     "duration": 0.05331,
     "end_time": "2021-02-28T15:27:12.999693",
     "exception": false,
     "start_time": "2021-02-28T15:27:12.946383",
     "status": "completed"
    },
    "tags": []
   },
   "outputs": [
    {
     "data": {
      "text/html": [
       "<div>\n",
       "<style scoped>\n",
       "    .dataframe tbody tr th:only-of-type {\n",
       "        vertical-align: middle;\n",
       "    }\n",
       "\n",
       "    .dataframe tbody tr th {\n",
       "        vertical-align: top;\n",
       "    }\n",
       "\n",
       "    .dataframe thead th {\n",
       "        text-align: right;\n",
       "    }\n",
       "</style>\n",
       "<table border=\"1\" class=\"dataframe\">\n",
       "  <thead>\n",
       "    <tr style=\"text-align: right;\">\n",
       "      <th></th>\n",
       "      <th>datetime_utc</th>\n",
       "      <th>condition</th>\n",
       "      <th>humidity</th>\n",
       "      <th>temperature</th>\n",
       "    </tr>\n",
       "  </thead>\n",
       "  <tbody>\n",
       "    <tr>\n",
       "      <th>0</th>\n",
       "      <td>19961101-11:00</td>\n",
       "      <td>Smoke</td>\n",
       "      <td>27.0</td>\n",
       "      <td>30.0</td>\n",
       "    </tr>\n",
       "    <tr>\n",
       "      <th>1</th>\n",
       "      <td>19961101-12:00</td>\n",
       "      <td>Smoke</td>\n",
       "      <td>32.0</td>\n",
       "      <td>28.0</td>\n",
       "    </tr>\n",
       "    <tr>\n",
       "      <th>2</th>\n",
       "      <td>19961101-13:00</td>\n",
       "      <td>Smoke</td>\n",
       "      <td>44.0</td>\n",
       "      <td>24.0</td>\n",
       "    </tr>\n",
       "    <tr>\n",
       "      <th>3</th>\n",
       "      <td>19961101-14:00</td>\n",
       "      <td>Smoke</td>\n",
       "      <td>41.0</td>\n",
       "      <td>24.0</td>\n",
       "    </tr>\n",
       "    <tr>\n",
       "      <th>4</th>\n",
       "      <td>19961101-16:00</td>\n",
       "      <td>Smoke</td>\n",
       "      <td>47.0</td>\n",
       "      <td>23.0</td>\n",
       "    </tr>\n",
       "  </tbody>\n",
       "</table>\n",
       "</div>"
      ],
      "text/plain": [
       "     datetime_utc condition  humidity  temperature\n",
       "0  19961101-11:00     Smoke      27.0         30.0\n",
       "1  19961101-12:00     Smoke      32.0         28.0\n",
       "2  19961101-13:00     Smoke      44.0         24.0\n",
       "3  19961101-14:00     Smoke      41.0         24.0\n",
       "4  19961101-16:00     Smoke      47.0         23.0"
      ]
     },
     "execution_count": 8,
     "metadata": {},
     "output_type": "execute_result"
    }
   ],
   "source": [
    "weather_df.head()"
   ]
  },
  {
   "cell_type": "code",
   "execution_count": 9,
   "metadata": {
    "execution": {
     "iopub.execute_input": "2021-02-28T15:27:13.095720Z",
     "iopub.status.busy": "2021-02-28T15:27:13.093276Z",
     "iopub.status.idle": "2021-02-28T15:27:13.100545Z",
     "shell.execute_reply": "2021-02-28T15:27:13.099978Z"
    },
    "papermill": {
     "duration": 0.055639,
     "end_time": "2021-02-28T15:27:13.100735",
     "exception": false,
     "start_time": "2021-02-28T15:27:13.045096",
     "status": "completed"
    },
    "tags": []
   },
   "outputs": [
    {
     "data": {
      "text/plain": [
       "(100990, 4)"
      ]
     },
     "execution_count": 9,
     "metadata": {},
     "output_type": "execute_result"
    }
   ],
   "source": [
    "weather_df.shape"
   ]
  },
  {
   "cell_type": "code",
   "execution_count": 10,
   "metadata": {
    "execution": {
     "iopub.execute_input": "2021-02-28T15:27:13.220336Z",
     "iopub.status.busy": "2021-02-28T15:27:13.219629Z",
     "iopub.status.idle": "2021-02-28T15:27:13.239151Z",
     "shell.execute_reply": "2021-02-28T15:27:13.238527Z"
    },
    "papermill": {
     "duration": 0.088499,
     "end_time": "2021-02-28T15:27:13.239332",
     "exception": false,
     "start_time": "2021-02-28T15:27:13.150833",
     "status": "completed"
    },
    "tags": []
   },
   "outputs": [
    {
     "name": "stdout",
     "output_type": "stream",
     "text": [
      "<class 'pandas.core.frame.DataFrame'>\n",
      "RangeIndex: 100990 entries, 0 to 100989\n",
      "Data columns (total 4 columns):\n",
      " #   Column        Non-Null Count   Dtype  \n",
      "---  ------        --------------   -----  \n",
      " 0   datetime_utc  100990 non-null  object \n",
      " 1   condition     100918 non-null  object \n",
      " 2   humidity      100233 non-null  float64\n",
      " 3   temperature   100317 non-null  float64\n",
      "dtypes: float64(2), object(2)\n",
      "memory usage: 3.1+ MB\n"
     ]
    }
   ],
   "source": [
    "weather_df.info()"
   ]
  },
  {
   "cell_type": "code",
   "execution_count": 11,
   "metadata": {
    "execution": {
     "iopub.execute_input": "2021-02-28T15:27:13.328578Z",
     "iopub.status.busy": "2021-02-28T15:27:13.327585Z",
     "iopub.status.idle": "2021-02-28T15:27:13.386780Z",
     "shell.execute_reply": "2021-02-28T15:27:13.386210Z"
    },
    "papermill": {
     "duration": 0.108994,
     "end_time": "2021-02-28T15:27:13.386938",
     "exception": false,
     "start_time": "2021-02-28T15:27:13.277944",
     "status": "completed"
    },
    "tags": []
   },
   "outputs": [
    {
     "data": {
      "text/plain": [
       "0"
      ]
     },
     "execution_count": 11,
     "metadata": {},
     "output_type": "execute_result"
    }
   ],
   "source": [
    "weather_df.duplicated().sum()"
   ]
  },
  {
   "cell_type": "markdown",
   "metadata": {
    "papermill": {
     "duration": 0.038436,
     "end_time": "2021-02-28T15:27:13.541956",
     "exception": false,
     "start_time": "2021-02-28T15:27:13.503520",
     "status": "completed"
    },
    "tags": []
   },
   "source": [
    "**Let's convert datatype of datetime column**"
   ]
  },
  {
   "cell_type": "code",
   "execution_count": 12,
   "metadata": {
    "execution": {
     "iopub.execute_input": "2021-02-28T15:27:13.638445Z",
     "iopub.status.busy": "2021-02-28T15:27:13.635734Z",
     "iopub.status.idle": "2021-02-28T15:27:14.110221Z",
     "shell.execute_reply": "2021-02-28T15:27:14.109615Z"
    },
    "papermill": {
     "duration": 0.529488,
     "end_time": "2021-02-28T15:27:14.110375",
     "exception": false,
     "start_time": "2021-02-28T15:27:13.580887",
     "status": "completed"
    },
    "tags": []
   },
   "outputs": [],
   "source": [
    "from datetime import datetime\n",
    "weather_df['datetime_utc']=pd.to_datetime(weather_df['datetime_utc'],infer_datetime_format=True)"
   ]
  },
  {
   "cell_type": "code",
   "execution_count": 13,
   "metadata": {
    "execution": {
     "iopub.execute_input": "2021-02-28T15:27:14.204723Z",
     "iopub.status.busy": "2021-02-28T15:27:14.204025Z",
     "iopub.status.idle": "2021-02-28T15:27:14.219301Z",
     "shell.execute_reply": "2021-02-28T15:27:14.219852Z"
    },
    "papermill": {
     "duration": 0.070232,
     "end_time": "2021-02-28T15:27:14.220041",
     "exception": false,
     "start_time": "2021-02-28T15:27:14.149809",
     "status": "completed"
    },
    "tags": []
   },
   "outputs": [
    {
     "name": "stdout",
     "output_type": "stream",
     "text": [
      "<class 'pandas.core.frame.DataFrame'>\n",
      "RangeIndex: 100990 entries, 0 to 100989\n",
      "Data columns (total 4 columns):\n",
      " #   Column        Non-Null Count   Dtype         \n",
      "---  ------        --------------   -----         \n",
      " 0   datetime_utc  100990 non-null  datetime64[ns]\n",
      " 1   condition     100918 non-null  object        \n",
      " 2   humidity      100233 non-null  float64       \n",
      " 3   temperature   100317 non-null  float64       \n",
      "dtypes: datetime64[ns](1), float64(2), object(1)\n",
      "memory usage: 3.1+ MB\n"
     ]
    }
   ],
   "source": [
    "weather_df.info()"
   ]
  },
  {
   "cell_type": "markdown",
   "metadata": {
    "papermill": {
     "duration": 0.039311,
     "end_time": "2021-02-28T15:27:14.298817",
     "exception": false,
     "start_time": "2021-02-28T15:27:14.259506",
     "status": "completed"
    },
    "tags": []
   },
   "source": [
    "**Now, let's set datetime_utc column as index**"
   ]
  },
  {
   "cell_type": "code",
   "execution_count": 14,
   "metadata": {
    "execution": {
     "iopub.execute_input": "2021-02-28T15:27:14.383091Z",
     "iopub.status.busy": "2021-02-28T15:27:14.382371Z",
     "iopub.status.idle": "2021-02-28T15:27:14.387569Z",
     "shell.execute_reply": "2021-02-28T15:27:14.387075Z"
    },
    "papermill": {
     "duration": 0.049429,
     "end_time": "2021-02-28T15:27:14.387729",
     "exception": false,
     "start_time": "2021-02-28T15:27:14.338300",
     "status": "completed"
    },
    "tags": []
   },
   "outputs": [],
   "source": [
    "weather_df = weather_df.set_index('datetime_utc',inplace=False)"
   ]
  },
  {
   "cell_type": "code",
   "execution_count": 15,
   "metadata": {
    "execution": {
     "iopub.execute_input": "2021-02-28T15:27:14.478998Z",
     "iopub.status.busy": "2021-02-28T15:27:14.478296Z",
     "iopub.status.idle": "2021-02-28T15:27:14.482752Z",
     "shell.execute_reply": "2021-02-28T15:27:14.482127Z"
    },
    "papermill": {
     "duration": 0.055566,
     "end_time": "2021-02-28T15:27:14.482896",
     "exception": false,
     "start_time": "2021-02-28T15:27:14.427330",
     "status": "completed"
    },
    "tags": []
   },
   "outputs": [
    {
     "data": {
      "text/html": [
       "<div>\n",
       "<style scoped>\n",
       "    .dataframe tbody tr th:only-of-type {\n",
       "        vertical-align: middle;\n",
       "    }\n",
       "\n",
       "    .dataframe tbody tr th {\n",
       "        vertical-align: top;\n",
       "    }\n",
       "\n",
       "    .dataframe thead th {\n",
       "        text-align: right;\n",
       "    }\n",
       "</style>\n",
       "<table border=\"1\" class=\"dataframe\">\n",
       "  <thead>\n",
       "    <tr style=\"text-align: right;\">\n",
       "      <th></th>\n",
       "      <th>condition</th>\n",
       "      <th>humidity</th>\n",
       "      <th>temperature</th>\n",
       "    </tr>\n",
       "    <tr>\n",
       "      <th>datetime_utc</th>\n",
       "      <th></th>\n",
       "      <th></th>\n",
       "      <th></th>\n",
       "    </tr>\n",
       "  </thead>\n",
       "  <tbody>\n",
       "    <tr>\n",
       "      <th>1996-11-01 11:00:00</th>\n",
       "      <td>Smoke</td>\n",
       "      <td>27.0</td>\n",
       "      <td>30.0</td>\n",
       "    </tr>\n",
       "    <tr>\n",
       "      <th>1996-11-01 12:00:00</th>\n",
       "      <td>Smoke</td>\n",
       "      <td>32.0</td>\n",
       "      <td>28.0</td>\n",
       "    </tr>\n",
       "    <tr>\n",
       "      <th>1996-11-01 13:00:00</th>\n",
       "      <td>Smoke</td>\n",
       "      <td>44.0</td>\n",
       "      <td>24.0</td>\n",
       "    </tr>\n",
       "    <tr>\n",
       "      <th>1996-11-01 14:00:00</th>\n",
       "      <td>Smoke</td>\n",
       "      <td>41.0</td>\n",
       "      <td>24.0</td>\n",
       "    </tr>\n",
       "    <tr>\n",
       "      <th>1996-11-01 16:00:00</th>\n",
       "      <td>Smoke</td>\n",
       "      <td>47.0</td>\n",
       "      <td>23.0</td>\n",
       "    </tr>\n",
       "  </tbody>\n",
       "</table>\n",
       "</div>"
      ],
      "text/plain": [
       "                    condition  humidity  temperature\n",
       "datetime_utc                                        \n",
       "1996-11-01 11:00:00     Smoke      27.0         30.0\n",
       "1996-11-01 12:00:00     Smoke      32.0         28.0\n",
       "1996-11-01 13:00:00     Smoke      44.0         24.0\n",
       "1996-11-01 14:00:00     Smoke      41.0         24.0\n",
       "1996-11-01 16:00:00     Smoke      47.0         23.0"
      ]
     },
     "execution_count": 15,
     "metadata": {},
     "output_type": "execute_result"
    }
   ],
   "source": [
    "weather_df.head()"
   ]
  },
  {
   "cell_type": "markdown",
   "metadata": {
    "papermill": {
     "duration": 0.04048,
     "end_time": "2021-02-28T15:27:14.563899",
     "exception": false,
     "start_time": "2021-02-28T15:27:14.523419",
     "status": "completed"
    },
    "tags": []
   },
   "source": [
    "**Let's analyze the missing values now**"
   ]
  },
  {
   "cell_type": "code",
   "execution_count": 16,
   "metadata": {
    "execution": {
     "iopub.execute_input": "2021-02-28T15:27:14.661115Z",
     "iopub.status.busy": "2021-02-28T15:27:14.660263Z",
     "iopub.status.idle": "2021-02-28T15:27:15.286125Z",
     "shell.execute_reply": "2021-02-28T15:27:15.286612Z"
    },
    "papermill": {
     "duration": 0.682124,
     "end_time": "2021-02-28T15:27:15.286815",
     "exception": false,
     "start_time": "2021-02-28T15:27:14.604691",
     "status": "completed"
    },
    "tags": []
   },
   "outputs": [
    {
     "data": {
      "text/plain": [
       "<AxesSubplot:ylabel='datetime_utc'>"
      ]
     },
     "execution_count": 16,
     "metadata": {},
     "output_type": "execute_result"
    },
    {
     "data": {
      "image/png": "[encoded data removed]",
      "text/plain": [
       "<Figure size 432x288 with 1 Axes>"
      ]
     },
     "metadata": {
      "needs_background": "light"
     },
     "output_type": "display_data"
    }
   ],
   "source": [
    "sns.heatmap(weather_df.isnull(), cbar=False)"
   ]
  },
  {
   "cell_type": "code",
   "execution_count": 17,
   "metadata": {},
   "outputs": [
    {
     "name": "stdout",
     "output_type": "stream",
     "text": [
      "Requirement already satisfied: missingno in c:\\users\\avuda\\appdata\\local\\programs\\python\\python310\\lib\\site-packages (0.5.1)Note: you may need to restart the kernel to use updated packages.\n",
      "\n",
      "Requirement already satisfied: matplotlib in c:\\users\\avuda\\appdata\\local\\programs\\python\\python310\\lib\\site-packages (from missingno) (3.5.2)\n",
      "Requirement already satisfied: seaborn in c:\\users\\avuda\\appdata\\local\\programs\\python\\python310\\lib\\site-packages (from missingno) (0.11.2)\n",
      "Requirement already satisfied: numpy in c:\\users\\avuda\\appdata\\local\\programs\\python\\python310\\lib\\site-packages (from missingno) (1.21.5)\n",
      "Requirement already satisfied: scipy in c:\\users\\avuda\\appdata\\local\\programs\\python\\python310\\lib\\site-packages (from missingno) (1.8.0)\n",
      "Requirement already satisfied: fonttools>=4.22.0 in c:\\users\\avuda\\appdata\\local\\programs\\python\\python310\\lib\\site-packages (from matplotlib->missingno) (4.33.3)\n",
      "Requirement already satisfied: packaging>=20.0 in c:\\users\\avuda\\appdata\\local\\programs\\python\\python310\\lib\\site-packages (from matplotlib->missingno) (21.3)\n",
      "Requirement already satisfied: pyparsing>=2.2.1 in c:\\users\\avuda\\appdata\\local\\programs\\python\\python310\\lib\\site-packages (from matplotlib->missingno) (3.0.9)\n",
      "Requirement already satisfied: python-dateutil>=2.7 in c:\\users\\avuda\\appdata\\local\\programs\\python\\python310\\lib\\site-packages (from matplotlib->missingno) (2.8.2)\n",
      "Requirement already satisfied: cycler>=0.10 in c:\\users\\avuda\\appdata\\local\\programs\\python\\python310\\lib\\site-packages (from matplotlib->missingno) (0.11.0)\n",
      "Requirement already satisfied: pillow>=6.2.0 in c:\\users\\avuda\\appdata\\local\\programs\\python\\python310\\lib\\site-packages (from matplotlib->missingno) (9.1.0)\n",
      "Requirement already satisfied: kiwisolver>=1.0.1 in c:\\users\\avuda\\appdata\\local\\programs\\python\\python310\\lib\\site-packages (from matplotlib->missingno) (1.4.2)\n",
      "Requirement already satisfied: six>=1.5 in c:\\users\\avuda\\appdata\\local\\programs\\python\\python310\\lib\\site-packages (from python-dateutil>=2.7->matplotlib->missingno) (1.16.0)\n",
      "Requirement already satisfied: pandas>=0.23 in c:\\users\\avuda\\appdata\\local\\programs\\python\\python310\\lib\\site-packages (from seaborn->missingno) (1.3.5)\n",
      "Requirement already satisfied: pytz>=2017.3 in c:\\users\\avuda\\appdata\\local\\programs\\python\\python310\\lib\\site-packages (from pandas>=0.23->seaborn->missingno) (2022.1)\n"
     ]
    },
    {
     "name": "stderr",
     "output_type": "stream",
     "text": [
      "WARNING: You are using pip version 21.2.4; however, version 23.0 is available.\n",
      "You should consider upgrading via the 'C:\\Users\\avuda\\AppData\\Local\\Programs\\Python\\Python310\\python.exe -m pip install --upgrade pip' command.\n"
     ]
    }
   ],
   "source": [
    "pip install missingno"
   ]
  },
  {
   "cell_type": "code",
   "execution_count": 18,
   "metadata": {
    "execution": {
     "iopub.execute_input": "2021-02-28T15:27:15.373491Z",
     "iopub.status.busy": "2021-02-28T15:27:15.372885Z",
     "iopub.status.idle": "2021-02-28T15:27:15.882169Z",
     "shell.execute_reply": "2021-02-28T15:27:15.882920Z"
    },
    "papermill": {
     "duration": 0.554587,
     "end_time": "2021-02-28T15:27:15.883167",
     "exception": false,
     "start_time": "2021-02-28T15:27:15.328580",
     "status": "completed"
    },
    "tags": []
   },
   "outputs": [
    {
     "data": {
      "text/plain": [
       "<AxesSubplot:>"
      ]
     },
     "execution_count": 18,
     "metadata": {},
     "output_type": "execute_result"
    },
    {
     "data": {
      "image/png": "[encoded data removed]",
      "text/plain": [
       "<Figure size 1800x720 with 2 Axes>"
      ]
     },
     "metadata": {
      "needs_background": "light"
     },
     "output_type": "display_data"
    }
   ],
   "source": [
    "import missingno as msno\n",
    "msno.matrix(weather_df)"
   ]
  },
  {
   "cell_type": "code",
   "execution_count": 19,
   "metadata": {
    "execution": {
     "iopub.execute_input": "2021-02-28T15:27:16.006502Z",
     "iopub.status.busy": "2021-02-28T15:27:16.005402Z",
     "iopub.status.idle": "2021-02-28T15:27:16.328511Z",
     "shell.execute_reply": "2021-02-28T15:27:16.329270Z"
    },
    "papermill": {
     "duration": 0.400191,
     "end_time": "2021-02-28T15:27:16.329507",
     "exception": false,
     "start_time": "2021-02-28T15:27:15.929316",
     "status": "completed"
    },
    "tags": []
   },
   "outputs": [
    {
     "data": {
      "text/plain": [
       "<AxesSubplot:>"
      ]
     },
     "execution_count": 19,
     "metadata": {},
     "output_type": "execute_result"
    },
    {
     "data": {
      "image/png": "[encoded data removed]",
      "text/plain": [
       "<Figure size 1440x864 with 2 Axes>"
      ]
     },
     "metadata": {
      "needs_background": "light"
     },
     "output_type": "display_data"
    }
   ],
   "source": [
    "msno.heatmap(weather_df)"
   ]
  },
  {
   "cell_type": "markdown",
   "metadata": {
    "papermill": {
     "duration": 0.044869,
     "end_time": "2021-02-28T15:27:16.423576",
     "exception": false,
     "start_time": "2021-02-28T15:27:16.378707",
     "status": "completed"
    },
    "tags": []
   },
   "source": [
    "Not many values are missing, but it will still be great to fill the missing ones instead of removing entire row."
   ]
  },
  {
   "cell_type": "code",
   "execution_count": 20,
   "metadata": {
    "execution": {
     "iopub.execute_input": "2021-02-28T15:27:16.517650Z",
     "iopub.status.busy": "2021-02-28T15:27:16.516741Z",
     "iopub.status.idle": "2021-02-28T15:27:16.535938Z",
     "shell.execute_reply": "2021-02-28T15:27:16.535266Z"
    },
    "papermill": {
     "duration": 0.067243,
     "end_time": "2021-02-28T15:27:16.536099",
     "exception": false,
     "start_time": "2021-02-28T15:27:16.468856",
     "status": "completed"
    },
    "tags": []
   },
   "outputs": [],
   "source": [
    "weather_df.ffill(inplace=True)"
   ]
  },
  {
   "cell_type": "code",
   "execution_count": 21,
   "metadata": {
    "execution": {
     "iopub.execute_input": "2021-02-28T15:27:16.649326Z",
     "iopub.status.busy": "2021-02-28T15:27:16.648276Z",
     "iopub.status.idle": "2021-02-28T15:27:16.656377Z",
     "shell.execute_reply": "2021-02-28T15:27:16.655706Z"
    },
    "papermill": {
     "duration": 0.069948,
     "end_time": "2021-02-28T15:27:16.656535",
     "exception": false,
     "start_time": "2021-02-28T15:27:16.586587",
     "status": "completed"
    },
    "tags": []
   },
   "outputs": [
    {
     "data": {
      "text/plain": [
       "condition      0\n",
       "humidity       0\n",
       "temperature    0\n",
       "dtype: int64"
      ]
     },
     "execution_count": 21,
     "metadata": {},
     "output_type": "execute_result"
    }
   ],
   "source": [
    "weather_df.isnull().sum()"
   ]
  },
  {
   "cell_type": "markdown",
   "metadata": {
    "papermill": {
     "duration": 0.04572,
     "end_time": "2021-02-28T15:27:16.748583",
     "exception": false,
     "start_time": "2021-02-28T15:27:16.702863",
     "status": "completed"
    },
    "tags": []
   },
   "source": [
    "**So, here we have cleaned the data.**"
   ]
  },
  {
   "cell_type": "markdown",
   "metadata": {
    "papermill": {
     "duration": 0.045787,
     "end_time": "2021-02-28T15:27:16.840353",
     "exception": false,
     "start_time": "2021-02-28T15:27:16.794566",
     "status": "completed"
    },
    "tags": []
   },
   "source": [
    "### **Exploratory Data Analysis**"
   ]
  },
  {
   "cell_type": "code",
   "execution_count": 22,
   "metadata": {
    "execution": {
     "iopub.execute_input": "2021-02-28T15:27:16.935644Z",
     "iopub.status.busy": "2021-02-28T15:27:16.935016Z",
     "iopub.status.idle": "2021-02-28T15:27:16.967252Z",
     "shell.execute_reply": "2021-02-28T15:27:16.967778Z"
    },
    "papermill": {
     "duration": 0.081576,
     "end_time": "2021-02-28T15:27:16.967954",
     "exception": false,
     "start_time": "2021-02-28T15:27:16.886378",
     "status": "completed"
    },
    "tags": []
   },
   "outputs": [
    {
     "data": {
      "text/plain": [
       "Blowing Sand                       378\n",
       "Clear                             3129\n",
       "Drizzle                            112\n",
       "Fog                               2760\n",
       "Funnel Cloud                         2\n",
       "Haze                             47639\n",
       "Heavy Fog                          421\n",
       "Heavy Rain                          28\n",
       "Heavy Thunderstorms and Rain        22\n",
       "Heavy Thunderstorms with Hail        1\n",
       "Light Drizzle                      414\n",
       "Light Fog                           64\n",
       "Light Freezing Rain                  1\n",
       "Light Hail Showers                   1\n",
       "Light Haze                           4\n",
       "Light Rain                        1302\n",
       "Light Rain Showers                   5\n",
       "Light Sandstorm                      6\n",
       "Light Thunderstorm                  64\n",
       "Light Thunderstorms and Rain       176\n",
       "Mist                              9389\n",
       "Mostly Cloudy                     1537\n",
       "Overcast                           326\n",
       "Partial Fog                       1036\n",
       "Partly Cloudy                     2092\n",
       "Patches of Fog                     905\n",
       "Rain                               394\n",
       "Rain Showers                         2\n",
       "Sandstorm                            2\n",
       "Scattered Clouds                  2209\n",
       "Shallow Fog                       1860\n",
       "Smoke                            20765\n",
       "Squalls                              6\n",
       "Thunderstorm                       192\n",
       "Thunderstorms and Rain             486\n",
       "Thunderstorms with Hail             11\n",
       "Unknown                            383\n",
       "Volcanic Ash                         4\n",
       "Widespread Dust                   2862\n",
       "Name: condition, dtype: int64"
      ]
     },
     "execution_count": 22,
     "metadata": {},
     "output_type": "execute_result"
    }
   ],
   "source": [
    "weather_df['condition'].value_counts().sort_index()"
   ]
  },
  {
   "cell_type": "code",
   "execution_count": 23,
   "metadata": {
    "execution": {
     "iopub.execute_input": "2021-02-28T15:27:17.064951Z",
     "iopub.status.busy": "2021-02-28T15:27:17.064182Z",
     "iopub.status.idle": "2021-02-28T15:27:17.636839Z",
     "shell.execute_reply": "2021-02-28T15:27:17.637359Z"
    },
    "papermill": {
     "duration": 0.623258,
     "end_time": "2021-02-28T15:27:17.637547",
     "exception": false,
     "start_time": "2021-02-28T15:27:17.014289",
     "status": "completed"
    },
    "tags": []
   },
   "outputs": [
    {
     "data": {
      "text/plain": [
       "<AxesSubplot:title={'center':'Delhi Weather Condition'}, xlabel='condition', ylabel='count'>"
      ]
     },
     "execution_count": 23,
     "metadata": {},
     "output_type": "execute_result"
    },
    {
     "data": {
      "image/png": "[encoded data removed]",
      "text/plain": [
       "<Figure size 720x360 with 1 Axes>"
      ]
     },
     "metadata": {
      "needs_background": "light"
     },
     "output_type": "display_data"
    }
   ],
   "source": [
    "plt.figure(figsize=(10,5))\n",
    "plt.title('Delhi Weather Condition', fontsize=14)\n",
    "plt.xlabel(\"Weather\", fontsize=12)\n",
    "plt.ylabel(\"Count\", fontsize=12)\n",
    "plt.xticks(rotation=90, fontsize=12)\n",
    "plt.yticks(fontsize=12)\n",
    "sns.countplot(x = \"condition\", data = weather_df, palette='magma', order=weather_df[\"condition\"].value_counts().index)"
   ]
  },
  {
   "cell_type": "markdown",
   "metadata": {
    "papermill": {
     "duration": 0.047914,
     "end_time": "2021-02-28T15:27:17.733640",
     "exception": false,
     "start_time": "2021-02-28T15:27:17.685726",
     "status": "completed"
    },
    "tags": []
   },
   "source": [
    "**Look at the above plot, it is really so bad that mostly Delhi has Hazy and Smoky weather conditions, it shows the level of pollution city has.**"
   ]
  },
  {
   "cell_type": "markdown",
   "metadata": {
    "papermill": {
     "duration": 0.047611,
     "end_time": "2021-02-28T15:27:17.829185",
     "exception": false,
     "start_time": "2021-02-28T15:27:17.781574",
     "status": "completed"
    },
    "tags": []
   },
   "source": [
    "### **Time Series Analysis**"
   ]
  },
  {
   "cell_type": "markdown",
   "metadata": {
    "papermill": {
     "duration": 0.048615,
     "end_time": "2021-02-28T15:27:17.925819",
     "exception": false,
     "start_time": "2021-02-28T15:27:17.877204",
     "status": "completed"
    },
    "tags": []
   },
   "source": [
    "**We have to predict the temperature of Delhi, so, let's drop condition & humidity column.**"
   ]
  },
  {
   "cell_type": "code",
   "execution_count": 24,
   "metadata": {
    "execution": {
     "iopub.execute_input": "2021-02-28T15:27:18.035322Z",
     "iopub.status.busy": "2021-02-28T15:27:18.034667Z",
     "iopub.status.idle": "2021-02-28T15:27:18.037575Z",
     "shell.execute_reply": "2021-02-28T15:27:18.038286Z"
    },
    "papermill": {
     "duration": 0.064185,
     "end_time": "2021-02-28T15:27:18.038494",
     "exception": false,
     "start_time": "2021-02-28T15:27:17.974309",
     "status": "completed"
    },
    "tags": []
   },
   "outputs": [
    {
     "data": {
      "text/html": [
       "<div>\n",
       "<style scoped>\n",
       "    .dataframe tbody tr th:only-of-type {\n",
       "        vertical-align: middle;\n",
       "    }\n",
       "\n",
       "    .dataframe tbody tr th {\n",
       "        vertical-align: top;\n",
       "    }\n",
       "\n",
       "    .dataframe thead th {\n",
       "        text-align: right;\n",
       "    }\n",
       "</style>\n",
       "<table border=\"1\" class=\"dataframe\">\n",
       "  <thead>\n",
       "    <tr style=\"text-align: right;\">\n",
       "      <th></th>\n",
       "      <th>temperature</th>\n",
       "    </tr>\n",
       "    <tr>\n",
       "      <th>datetime_utc</th>\n",
       "      <th></th>\n",
       "    </tr>\n",
       "  </thead>\n",
       "  <tbody>\n",
       "    <tr>\n",
       "      <th>1996-11-01 11:00:00</th>\n",
       "      <td>30.0</td>\n",
       "    </tr>\n",
       "    <tr>\n",
       "      <th>1996-11-01 12:00:00</th>\n",
       "      <td>28.0</td>\n",
       "    </tr>\n",
       "    <tr>\n",
       "      <th>1996-11-01 13:00:00</th>\n",
       "      <td>24.0</td>\n",
       "    </tr>\n",
       "    <tr>\n",
       "      <th>1996-11-01 14:00:00</th>\n",
       "      <td>24.0</td>\n",
       "    </tr>\n",
       "    <tr>\n",
       "      <th>1996-11-01 16:00:00</th>\n",
       "      <td>23.0</td>\n",
       "    </tr>\n",
       "  </tbody>\n",
       "</table>\n",
       "</div>"
      ],
      "text/plain": [
       "                     temperature\n",
       "datetime_utc                    \n",
       "1996-11-01 11:00:00         30.0\n",
       "1996-11-01 12:00:00         28.0\n",
       "1996-11-01 13:00:00         24.0\n",
       "1996-11-01 14:00:00         24.0\n",
       "1996-11-01 16:00:00         23.0"
      ]
     },
     "execution_count": 24,
     "metadata": {},
     "output_type": "execute_result"
    }
   ],
   "source": [
    "weather_time_df = weather_df[['temperature']]\n",
    "weather_time_df.head()"
   ]
  },
  {
   "cell_type": "code",
   "execution_count": 25,
   "metadata": {
    "execution": {
     "iopub.execute_input": "2021-02-28T15:27:18.140714Z",
     "iopub.status.busy": "2021-02-28T15:27:18.140087Z",
     "iopub.status.idle": "2021-02-28T15:27:18.153410Z",
     "shell.execute_reply": "2021-02-28T15:27:18.152820Z"
    },
    "papermill": {
     "duration": 0.065023,
     "end_time": "2021-02-28T15:27:18.153562",
     "exception": false,
     "start_time": "2021-02-28T15:27:18.088539",
     "status": "completed"
    },
    "tags": []
   },
   "outputs": [],
   "source": [
    "weather_time_df=weather_time_df.resample('D').mean()"
   ]
  },
  {
   "cell_type": "code",
   "execution_count": 26,
   "metadata": {
    "execution": {
     "iopub.execute_input": "2021-02-28T15:27:18.260698Z",
     "iopub.status.busy": "2021-02-28T15:27:18.260032Z",
     "iopub.status.idle": "2021-02-28T15:27:18.262791Z",
     "shell.execute_reply": "2021-02-28T15:27:18.263266Z"
    },
    "papermill": {
     "duration": 0.060468,
     "end_time": "2021-02-28T15:27:18.263435",
     "exception": false,
     "start_time": "2021-02-28T15:27:18.202967",
     "status": "completed"
    },
    "tags": []
   },
   "outputs": [
    {
     "data": {
      "text/plain": [
       "temperature    141\n",
       "dtype: int64"
      ]
     },
     "execution_count": 26,
     "metadata": {},
     "output_type": "execute_result"
    }
   ],
   "source": [
    "weather_time_df.isna().sum()"
   ]
  },
  {
   "cell_type": "code",
   "execution_count": 27,
   "metadata": {
    "execution": {
     "iopub.execute_input": "2021-02-28T15:27:18.365987Z",
     "iopub.status.busy": "2021-02-28T15:27:18.365344Z",
     "iopub.status.idle": "2021-02-28T15:27:18.370010Z",
     "shell.execute_reply": "2021-02-28T15:27:18.370476Z"
    },
    "papermill": {
     "duration": 0.057711,
     "end_time": "2021-02-28T15:27:18.370701",
     "exception": false,
     "start_time": "2021-02-28T15:27:18.312990",
     "status": "completed"
    },
    "tags": []
   },
   "outputs": [],
   "source": [
    "weather_time_df.fillna(weather_df['temperature'].mean(),inplace=True)"
   ]
  },
  {
   "cell_type": "code",
   "execution_count": 28,
   "metadata": {
    "execution": {
     "iopub.execute_input": "2021-02-28T15:27:18.473893Z",
     "iopub.status.busy": "2021-02-28T15:27:18.473227Z",
     "iopub.status.idle": "2021-02-28T15:27:18.479770Z",
     "shell.execute_reply": "2021-02-28T15:27:18.480253Z"
    },
    "papermill": {
     "duration": 0.059735,
     "end_time": "2021-02-28T15:27:18.480436",
     "exception": false,
     "start_time": "2021-02-28T15:27:18.420701",
     "status": "completed"
    },
    "tags": []
   },
   "outputs": [
    {
     "data": {
      "text/plain": [
       "temperature    0\n",
       "dtype: int64"
      ]
     },
     "execution_count": 28,
     "metadata": {},
     "output_type": "execute_result"
    }
   ],
   "source": [
    "weather_time_df.isna().sum()"
   ]
  },
  {
   "cell_type": "code",
   "execution_count": 29,
   "metadata": {
    "execution": {
     "iopub.execute_input": "2021-02-28T15:27:18.584454Z",
     "iopub.status.busy": "2021-02-28T15:27:18.583752Z",
     "iopub.status.idle": "2021-02-28T15:27:18.593614Z",
     "shell.execute_reply": "2021-02-28T15:27:18.592955Z"
    },
    "papermill": {
     "duration": 0.06293,
     "end_time": "2021-02-28T15:27:18.593778",
     "exception": false,
     "start_time": "2021-02-28T15:27:18.530848",
     "status": "completed"
    },
    "tags": []
   },
   "outputs": [
    {
     "data": {
      "text/html": [
       "<div>\n",
       "<style scoped>\n",
       "    .dataframe tbody tr th:only-of-type {\n",
       "        vertical-align: middle;\n",
       "    }\n",
       "\n",
       "    .dataframe tbody tr th {\n",
       "        vertical-align: top;\n",
       "    }\n",
       "\n",
       "    .dataframe thead th {\n",
       "        text-align: right;\n",
       "    }\n",
       "</style>\n",
       "<table border=\"1\" class=\"dataframe\">\n",
       "  <thead>\n",
       "    <tr style=\"text-align: right;\">\n",
       "      <th></th>\n",
       "      <th>temperature</th>\n",
       "    </tr>\n",
       "    <tr>\n",
       "      <th>datetime_utc</th>\n",
       "      <th></th>\n",
       "    </tr>\n",
       "  </thead>\n",
       "  <tbody>\n",
       "    <tr>\n",
       "      <th>1996-11-01</th>\n",
       "      <td>22.333333</td>\n",
       "    </tr>\n",
       "    <tr>\n",
       "      <th>1996-11-02</th>\n",
       "      <td>22.916667</td>\n",
       "    </tr>\n",
       "    <tr>\n",
       "      <th>1996-11-03</th>\n",
       "      <td>21.791667</td>\n",
       "    </tr>\n",
       "    <tr>\n",
       "      <th>1996-11-04</th>\n",
       "      <td>22.722222</td>\n",
       "    </tr>\n",
       "    <tr>\n",
       "      <th>1996-11-05</th>\n",
       "      <td>27.800000</td>\n",
       "    </tr>\n",
       "  </tbody>\n",
       "</table>\n",
       "</div>"
      ],
      "text/plain": [
       "              temperature\n",
       "datetime_utc             \n",
       "1996-11-01      22.333333\n",
       "1996-11-02      22.916667\n",
       "1996-11-03      21.791667\n",
       "1996-11-04      22.722222\n",
       "1996-11-05      27.800000"
      ]
     },
     "execution_count": 29,
     "metadata": {},
     "output_type": "execute_result"
    }
   ],
   "source": [
    "weather_time_df.head()"
   ]
  },
  {
   "cell_type": "code",
   "execution_count": 30,
   "metadata": {
    "execution": {
     "iopub.execute_input": "2021-02-28T15:27:18.699489Z",
     "iopub.status.busy": "2021-02-28T15:27:18.698716Z",
     "iopub.status.idle": "2021-02-28T15:27:18.707701Z",
     "shell.execute_reply": "2021-02-28T15:27:18.708230Z"
    },
    "papermill": {
     "duration": 0.063312,
     "end_time": "2021-02-28T15:27:18.708412",
     "exception": false,
     "start_time": "2021-02-28T15:27:18.645100",
     "status": "completed"
    },
    "tags": []
   },
   "outputs": [
    {
     "data": {
      "text/html": [
       "<div>\n",
       "<style scoped>\n",
       "    .dataframe tbody tr th:only-of-type {\n",
       "        vertical-align: middle;\n",
       "    }\n",
       "\n",
       "    .dataframe tbody tr th {\n",
       "        vertical-align: top;\n",
       "    }\n",
       "\n",
       "    .dataframe thead th {\n",
       "        text-align: right;\n",
       "    }\n",
       "</style>\n",
       "<table border=\"1\" class=\"dataframe\">\n",
       "  <thead>\n",
       "    <tr style=\"text-align: right;\">\n",
       "      <th></th>\n",
       "      <th>temperature</th>\n",
       "    </tr>\n",
       "    <tr>\n",
       "      <th>datetime_utc</th>\n",
       "      <th></th>\n",
       "    </tr>\n",
       "  </thead>\n",
       "  <tbody>\n",
       "    <tr>\n",
       "      <th>2017-04-20</th>\n",
       "      <td>34.500</td>\n",
       "    </tr>\n",
       "    <tr>\n",
       "      <th>2017-04-21</th>\n",
       "      <td>34.250</td>\n",
       "    </tr>\n",
       "    <tr>\n",
       "      <th>2017-04-22</th>\n",
       "      <td>32.900</td>\n",
       "    </tr>\n",
       "    <tr>\n",
       "      <th>2017-04-23</th>\n",
       "      <td>32.875</td>\n",
       "    </tr>\n",
       "    <tr>\n",
       "      <th>2017-04-24</th>\n",
       "      <td>32.000</td>\n",
       "    </tr>\n",
       "  </tbody>\n",
       "</table>\n",
       "</div>"
      ],
      "text/plain": [
       "              temperature\n",
       "datetime_utc             \n",
       "2017-04-20         34.500\n",
       "2017-04-21         34.250\n",
       "2017-04-22         32.900\n",
       "2017-04-23         32.875\n",
       "2017-04-24         32.000"
      ]
     },
     "execution_count": 30,
     "metadata": {},
     "output_type": "execute_result"
    }
   ],
   "source": [
    "weather_time_df.tail()"
   ]
  },
  {
   "cell_type": "markdown",
   "metadata": {
    "papermill": {
     "duration": 0.05182,
     "end_time": "2021-02-28T15:27:18.812733",
     "exception": false,
     "start_time": "2021-02-28T15:27:18.760913",
     "status": "completed"
    },
    "tags": []
   },
   "source": [
    "**Let's plot the data**"
   ]
  },
  {
   "cell_type": "code",
   "execution_count": 31,
   "metadata": {
    "execution": {
     "iopub.execute_input": "2021-02-28T15:27:18.920968Z",
     "iopub.status.busy": "2021-02-28T15:27:18.920205Z",
     "iopub.status.idle": "2021-02-28T15:27:19.110933Z",
     "shell.execute_reply": "2021-02-28T15:27:19.111413Z"
    },
    "papermill": {
     "duration": 0.24663,
     "end_time": "2021-02-28T15:27:19.111614",
     "exception": false,
     "start_time": "2021-02-28T15:27:18.864984",
     "status": "completed"
    },
    "tags": []
   },
   "outputs": [
    {
     "data": {
      "text/plain": [
       "[<matplotlib.lines.Line2D at 0x1ef472bf280>]"
      ]
     },
     "execution_count": 31,
     "metadata": {},
     "output_type": "execute_result"
    },
    {
     "data": {
      "image/png": "[encoded data removed]",
      "text/plain": [
       "<Figure size 720x360 with 1 Axes>"
      ]
     },
     "metadata": {
      "needs_background": "light"
     },
     "output_type": "display_data"
    }
   ],
   "source": [
    "plt.figure(figsize=(10,5))\n",
    "plt.xlabel('Date')\n",
    "plt.ylabel('Temperature')\n",
    "plt.plot(weather_time_df)"
   ]
  },
  {
   "cell_type": "markdown",
   "metadata": {
    "papermill": {
     "duration": 0.053594,
     "end_time": "2021-02-28T15:27:19.218824",
     "exception": false,
     "start_time": "2021-02-28T15:27:19.165230",
     "status": "completed"
    },
    "tags": []
   },
   "source": [
    "**So above plots shows that we do have some seasonality but there is no trend. Let's check rolling statistics. Also, perform the ADCF test(Dickey-Fuller Test)**"
   ]
  },
  {
   "cell_type": "code",
   "execution_count": 32,
   "metadata": {
    "execution": {
     "iopub.execute_input": "2021-02-28T15:27:19.328857Z",
     "iopub.status.busy": "2021-02-28T15:27:19.328193Z",
     "iopub.status.idle": "2021-02-28T15:27:19.336019Z",
     "shell.execute_reply": "2021-02-28T15:27:19.336492Z"
    },
    "papermill": {
     "duration": 0.064609,
     "end_time": "2021-02-28T15:27:19.336708",
     "exception": false,
     "start_time": "2021-02-28T15:27:19.272099",
     "status": "completed"
    },
    "tags": []
   },
   "outputs": [],
   "source": [
    "def test_stationarity(timeseries):\n",
    "    \n",
    "    #Determine rolling statistics\n",
    "    movingAverage = timeseries.rolling(window=12).mean()\n",
    "    movingSTD = timeseries.rolling(window=12).std()\n",
    "    \n",
    "    #Plot rolling statistics\n",
    "    plt.figure(figsize=(10,5))\n",
    "    plt.plot(timeseries, color='blue', label='Original')\n",
    "    plt.plot(movingAverage, color='red', label='Rolling Mean')\n",
    "    plt.plot(movingSTD, color='black', label='Rolling Std')\n",
    "    plt.legend(loc='best')\n",
    "    plt.title('Rolling Mean & Standard Deviation')\n",
    "    plt.show(block=False)\n",
    "    \n",
    "    #Perform Dickey–Fuller test:\n",
    "    print('Results of Dickey Fuller Test:')\n",
    "    weather_test = adfuller(timeseries['temperature'], autolag='AIC')\n",
    "    dfoutput = pd.Series(weather_test[0:4], index=['Test Statistic','p-value','#Lags Used','Number of Observations Used'])\n",
    "    for key,value in weather_test[4].items():\n",
    "        dfoutput['Critical Value (%s)'%key] = value\n",
    "    print(dfoutput)"
   ]
  },
  {
   "cell_type": "markdown",
   "metadata": {
    "papermill": {
     "duration": 0.053556,
     "end_time": "2021-02-28T15:27:19.444389",
     "exception": false,
     "start_time": "2021-02-28T15:27:19.390833",
     "status": "completed"
    },
    "tags": []
   },
   "source": [
    "**From the above graph the mean values are correlating with the actual values and the standard deviation does not seem to vary.**"
   ]
  },
  {
   "cell_type": "code",
   "execution_count": 33,
   "metadata": {
    "execution": {
     "iopub.execute_input": "2021-02-28T15:27:19.556280Z",
     "iopub.status.busy": "2021-02-28T15:27:19.555535Z",
     "iopub.status.idle": "2021-02-28T15:27:20.771686Z",
     "shell.execute_reply": "2021-02-28T15:27:20.770599Z"
    },
    "papermill": {
     "duration": 1.273054,
     "end_time": "2021-02-28T15:27:20.771898",
     "exception": false,
     "start_time": "2021-02-28T15:27:19.498844",
     "status": "completed"
    },
    "tags": []
   },
   "outputs": [
    {
     "data": {
      "image/png": "[encoded data removed]",
      "text/plain": [
       "<Figure size 720x360 with 1 Axes>"
      ]
     },
     "metadata": {
      "needs_background": "light"
     },
     "output_type": "display_data"
    },
    {
     "name": "stdout",
     "output_type": "stream",
     "text": [
      "Results of Dickey Fuller Test:\n",
      "Test Statistic                -7.363693e+00\n",
      "p-value                        9.355907e-11\n",
      "#Lags Used                     3.600000e+01\n",
      "Number of Observations Used    7.443000e+03\n",
      "Critical Value (1%)           -3.431229e+00\n",
      "Critical Value (5%)           -2.861928e+00\n",
      "Critical Value (10%)          -2.566977e+00\n",
      "dtype: float64\n"
     ]
    }
   ],
   "source": [
    "test_stationarity(weather_time_df)"
   ]
  },
  {
   "cell_type": "markdown",
   "metadata": {
    "papermill": {
     "duration": 0.059166,
     "end_time": "2021-02-28T15:27:20.888560",
     "exception": false,
     "start_time": "2021-02-28T15:27:20.829394",
     "status": "completed"
    },
    "tags": []
   },
   "source": [
    "**From the above graph the mean values are correlating with the actual values and the standard deviation does not seem to vary. Also, Test statistic is less than Critical Values, so we already have STATIONARY Time Series. So our 'd' value will become 0 in ARIMA Model.**"
   ]
  },
  {
   "cell_type": "markdown",
   "metadata": {
    "papermill": {
     "duration": 0.057158,
     "end_time": "2021-02-28T15:27:21.003013",
     "exception": false,
     "start_time": "2021-02-28T15:27:20.945855",
     "status": "completed"
    },
    "tags": []
   },
   "source": [
    "### **Plotting ACF & PACF**"
   ]
  },
  {
   "cell_type": "code",
   "execution_count": 34,
   "metadata": {
    "execution": {
     "iopub.execute_input": "2021-02-28T15:27:21.133029Z",
     "iopub.status.busy": "2021-02-28T15:27:21.131968Z",
     "iopub.status.idle": "2021-02-28T15:27:21.291128Z",
     "shell.execute_reply": "2021-02-28T15:27:21.291642Z"
    },
    "papermill": {
     "duration": 0.225453,
     "end_time": "2021-02-28T15:27:21.291862",
     "exception": false,
     "start_time": "2021-02-28T15:27:21.066409",
     "status": "completed"
    },
    "tags": []
   },
   "outputs": [],
   "source": [
    "lag_acf = acf(weather_time_df.diff().dropna().values, nlags=20)\n",
    "lag_pacf = pacf(weather_time_df.diff().dropna().values, nlags=20, method='ols')"
   ]
  },
  {
   "cell_type": "code",
   "execution_count": 35,
   "metadata": {
    "execution": {
     "iopub.execute_input": "2021-02-28T15:27:21.410088Z",
     "iopub.status.busy": "2021-02-28T15:27:21.409099Z",
     "iopub.status.idle": "2021-02-28T15:27:21.688434Z",
     "shell.execute_reply": "2021-02-28T15:27:21.687790Z"
    },
    "papermill": {
     "duration": 0.339696,
     "end_time": "2021-02-28T15:27:21.688586",
     "exception": false,
     "start_time": "2021-02-28T15:27:21.348890",
     "status": "completed"
    },
    "tags": []
   },
   "outputs": [
    {
     "data": {
      "image/png": "[encoded data removed]",
      "text/plain": [
       "<Figure size 432x288 with 2 Axes>"
      ]
     },
     "metadata": {
      "needs_background": "light"
     },
     "output_type": "display_data"
    }
   ],
   "source": [
    "#Plot ACF:\n",
    "plt.subplot(121)\n",
    "plt.plot(lag_acf)\n",
    "plt.axhline(y=0, linestyle='--', color='gray')\n",
    "plt.axhline(y=-1.96/np.sqrt(len(weather_time_df.diff().values)), linestyle='--', color='gray')\n",
    "plt.axhline(y=1.96/np.sqrt(len(weather_time_df.diff().values)), linestyle='--', color='gray')\n",
    "plt.title('Autocorrelation Function')            \n",
    "\n",
    "#Plot PACF\n",
    "plt.subplot(122)\n",
    "plt.plot(lag_pacf)\n",
    "plt.axhline(y=0, linestyle='--', color='gray')\n",
    "plt.axhline(y=-1.96/np.sqrt(len(weather_time_df.diff().values)), linestyle='--', color='gray')\n",
    "plt.axhline(y=1.96/np.sqrt(len(weather_time_df.diff().values)), linestyle='--', color='gray')\n",
    "plt.title('Partial Autocorrelation Function')\n",
    "            \n",
    "plt.tight_layout()"
   ]
  },
  {
   "cell_type": "markdown",
   "metadata": {
    "papermill": {
     "duration": 0.057276,
     "end_time": "2021-02-28T15:27:21.803760",
     "exception": false,
     "start_time": "2021-02-28T15:27:21.746484",
     "status": "completed"
    },
    "tags": []
   },
   "source": [
    "**From the ACF graph, we can see that curve touches y=0.0 line at x=1. Thus, from theory, Q = 1 From the PACF graph, we see that curve touches y=0.0 line at x=1. Thus, from theory, P = 1**"
   ]
  },
  {
   "cell_type": "code",
   "execution_count": 51,
   "metadata": {
    "execution": {
     "iopub.execute_input": "2021-02-28T15:27:22.047743Z",
     "iopub.status.busy": "2021-02-28T15:27:22.046305Z",
     "iopub.status.idle": "2021-02-28T15:27:23.922412Z",
     "shell.execute_reply": "2021-02-28T15:27:23.921795Z"
    },
    "papermill": {
     "duration": 1.942774,
     "end_time": "2021-02-28T15:27:23.922559",
     "exception": false,
     "start_time": "2021-02-28T15:27:21.979785",
     "status": "completed"
    },
    "scrolled": true,
    "tags": []
   },
   "outputs": [
    {
     "name": "stdout",
     "output_type": "stream",
     "text": [
      "Plotting ARIMA model\n"
     ]
    },
    {
     "data": {
      "image/png": "[encoded data removed]",
      "text/plain": [
       "<Figure size 432x288 with 1 Axes>"
      ]
     },
     "metadata": {
      "needs_background": "light"
     },
     "output_type": "display_data"
    }
   ],
   "source": [
    "from statsmodels.tsa.arima.model import ARIMA\n",
    "\n",
    "model = ARIMA(weather_time_df['temperature'], order=(1,0,1))\n",
    "results_ARIMA = model.fit()\n",
    "plt.plot(weather_time_df['temperature'].diff())\n",
    "plt.plot(results_ARIMA.fittedvalues, color='red')\n",
    "plt.title('RSS: %.4f'%sum((results_ARIMA.fittedvalues - weather_time_df.diff()['temperature'])**2))\n",
    "print('Plotting ARIMA model')\n"
   ]
  },
  {
   "cell_type": "markdown",
   "metadata": {
    "papermill": {
     "duration": 0.069676,
     "end_time": "2021-02-28T15:27:24.053143",
     "exception": false,
     "start_time": "2021-02-28T15:27:23.983467",
     "status": "completed"
    },
    "tags": []
   },
   "source": [
    "### **Predictions**"
   ]
  },
  {
   "cell_type": "code",
   "execution_count": 37,
   "metadata": {
    "execution": {
     "iopub.execute_input": "2021-02-28T15:27:24.199005Z",
     "iopub.status.busy": "2021-02-28T15:27:24.198244Z",
     "iopub.status.idle": "2021-02-28T15:27:24.203525Z",
     "shell.execute_reply": "2021-02-28T15:27:24.204051Z"
    },
    "papermill": {
     "duration": 0.076742,
     "end_time": "2021-02-28T15:27:24.204226",
     "exception": false,
     "start_time": "2021-02-28T15:27:24.127484",
     "status": "completed"
    },
    "tags": []
   },
   "outputs": [
    {
     "data": {
      "text/plain": [
       "datetime_utc\n",
       "1996-11-01    25.083115\n",
       "1996-11-02    22.410473\n",
       "1996-11-03    22.861961\n",
       "1996-11-04    22.054401\n",
       "1996-11-05    22.636933\n",
       "Freq: D, dtype: float64"
      ]
     },
     "execution_count": 37,
     "metadata": {},
     "output_type": "execute_result"
    }
   ],
   "source": [
    "predictions_ARIMA_diff = pd.Series(results_ARIMA.fittedvalues, copy=True)\n",
    "predictions_ARIMA_diff.head()"
   ]
  },
  {
   "cell_type": "code",
   "execution_count": 38,
   "metadata": {},
   "outputs": [],
   "source": [
    "pred=predictions_ARIMA_diff.to_frame()"
   ]
  },
  {
   "cell_type": "code",
   "execution_count": 39,
   "metadata": {},
   "outputs": [],
   "source": [
    "pred.columns = ['Forecasted']\n",
    "pred[\"Date\"]=pred.index\n",
    "pred[\"Actual\"]=weather_time_df[\"temperature\"]"
   ]
  },
  {
   "cell_type": "code",
   "execution_count": 40,
   "metadata": {},
   "outputs": [
    {
     "data": {
      "text/plain": [
       "Forecasted           float64\n",
       "Date          datetime64[ns]\n",
       "Actual               float64\n",
       "dtype: object"
      ]
     },
     "execution_count": 40,
     "metadata": {},
     "output_type": "execute_result"
    }
   ],
   "source": [
    "pred.dtypes"
   ]
  },
  {
   "cell_type": "code",
   "execution_count": 41,
   "metadata": {},
   "outputs": [],
   "source": [
    "pred.sort_values(by='Date', inplace = True,ascending=False)\n",
    "pred=pred.drop(['Date'], axis=1)"
   ]
  },
  {
   "cell_type": "markdown",
   "metadata": {},
   "source": [
    "# Errors"
   ]
  },
  {
   "cell_type": "code",
   "execution_count": 42,
   "metadata": {},
   "outputs": [
    {
     "name": "stdout",
     "output_type": "stream",
     "text": [
      "Mean absolute error = 1.2572684338361575\n",
      "Mean Squared Error: 2.899841\n",
      "rmse = 1.702891944087058\n"
     ]
    }
   ],
   "source": [
    "pred[\"forecast_errors\"] = [pred[\"Actual\"][i]-pred[\"Forecasted\"][i] for i in range(len(pred[\"Forecasted\"]))]\n",
    "from statistics import mean\n",
    "from numpy import sqrt \n",
    "print(\"Mean absolute error =\",mean( abs(pred[\"forecast_errors\"])))\n",
    "from sklearn.metrics import mean_squared_error\n",
    "mse = mean_squared_error(pred[\"Actual\"], pred[\"Forecasted\"])\n",
    "print('Mean Squared Error: %f' % mse)\n",
    "print(\"rmse =\",sqrt(mse))"
   ]
  },
  {
   "cell_type": "code",
   "execution_count": 43,
   "metadata": {},
   "outputs": [
    {
     "name": "stdout",
     "output_type": "stream",
     "text": [
      "BIAS = 0.0011258963520484994\n"
     ]
    }
   ],
   "source": [
    "bias = sum(pred[\"forecast_errors\"]) * 1.0/len(pred[\"forecast_errors\"])\n",
    "print(\"BIAS =\",bias)"
   ]
  },
  {
   "cell_type": "code",
   "execution_count": 44,
   "metadata": {},
   "outputs": [
    {
     "data": {
      "text/html": [
       "<div>\n",
       "<style scoped>\n",
       "    .dataframe tbody tr th:only-of-type {\n",
       "        vertical-align: middle;\n",
       "    }\n",
       "\n",
       "    .dataframe tbody tr th {\n",
       "        vertical-align: top;\n",
       "    }\n",
       "\n",
       "    .dataframe thead th {\n",
       "        text-align: right;\n",
       "    }\n",
       "</style>\n",
       "<table border=\"1\" class=\"dataframe\">\n",
       "  <thead>\n",
       "    <tr style=\"text-align: right;\">\n",
       "      <th></th>\n",
       "      <th>Forecasted</th>\n",
       "      <th>Actual</th>\n",
       "      <th>forecast_errors</th>\n",
       "    </tr>\n",
       "    <tr>\n",
       "      <th>datetime_utc</th>\n",
       "      <th></th>\n",
       "      <th></th>\n",
       "      <th></th>\n",
       "    </tr>\n",
       "  </thead>\n",
       "  <tbody>\n",
       "    <tr>\n",
       "      <th>2017-04-24</th>\n",
       "      <td>32.756309</td>\n",
       "      <td>32.000000</td>\n",
       "      <td>-0.756309</td>\n",
       "    </tr>\n",
       "    <tr>\n",
       "      <th>2017-04-23</th>\n",
       "      <td>32.981827</td>\n",
       "      <td>32.875000</td>\n",
       "      <td>-0.106827</td>\n",
       "    </tr>\n",
       "    <tr>\n",
       "      <th>2017-04-22</th>\n",
       "      <td>34.059984</td>\n",
       "      <td>32.900000</td>\n",
       "      <td>-1.159984</td>\n",
       "    </tr>\n",
       "    <tr>\n",
       "      <th>2017-04-21</th>\n",
       "      <td>34.111658</td>\n",
       "      <td>34.250000</td>\n",
       "      <td>0.138342</td>\n",
       "    </tr>\n",
       "    <tr>\n",
       "      <th>2017-04-20</th>\n",
       "      <td>33.345708</td>\n",
       "      <td>34.500000</td>\n",
       "      <td>1.154292</td>\n",
       "    </tr>\n",
       "    <tr>\n",
       "      <th>2017-04-19</th>\n",
       "      <td>33.478717</td>\n",
       "      <td>33.500000</td>\n",
       "      <td>0.021283</td>\n",
       "    </tr>\n",
       "    <tr>\n",
       "      <th>2017-04-18</th>\n",
       "      <td>32.102254</td>\n",
       "      <td>34.000000</td>\n",
       "      <td>1.897746</td>\n",
       "    </tr>\n",
       "    <tr>\n",
       "      <th>2017-04-17</th>\n",
       "      <td>30.878961</td>\n",
       "      <td>32.555556</td>\n",
       "      <td>1.676595</td>\n",
       "    </tr>\n",
       "    <tr>\n",
       "      <th>2017-04-16</th>\n",
       "      <td>30.919138</td>\n",
       "      <td>31.000000</td>\n",
       "      <td>0.080862</td>\n",
       "    </tr>\n",
       "    <tr>\n",
       "      <th>2017-04-15</th>\n",
       "      <td>30.208130</td>\n",
       "      <td>31.222222</td>\n",
       "      <td>1.014092</td>\n",
       "    </tr>\n",
       "  </tbody>\n",
       "</table>\n",
       "</div>"
      ],
      "text/plain": [
       "              Forecasted     Actual  forecast_errors\n",
       "datetime_utc                                        \n",
       "2017-04-24     32.756309  32.000000        -0.756309\n",
       "2017-04-23     32.981827  32.875000        -0.106827\n",
       "2017-04-22     34.059984  32.900000        -1.159984\n",
       "2017-04-21     34.111658  34.250000         0.138342\n",
       "2017-04-20     33.345708  34.500000         1.154292\n",
       "2017-04-19     33.478717  33.500000         0.021283\n",
       "2017-04-18     32.102254  34.000000         1.897746\n",
       "2017-04-17     30.878961  32.555556         1.676595\n",
       "2017-04-16     30.919138  31.000000         0.080862\n",
       "2017-04-15     30.208130  31.222222         1.014092"
      ]
     },
     "execution_count": 44,
     "metadata": {},
     "output_type": "execute_result"
    }
   ],
   "source": [
    "pred.head(10)"
   ]
  },
  {
   "cell_type": "code",
   "execution_count": 45,
   "metadata": {
    "execution": {
     "iopub.execute_input": "2021-02-28T15:27:24.334503Z",
     "iopub.status.busy": "2021-02-28T15:27:24.333452Z",
     "iopub.status.idle": "2021-02-28T15:27:24.337911Z",
     "shell.execute_reply": "2021-02-28T15:27:24.338358Z"
    },
    "papermill": {
     "duration": 0.072495,
     "end_time": "2021-02-28T15:27:24.338533",
     "exception": false,
     "start_time": "2021-02-28T15:27:24.266038",
     "status": "completed"
    },
    "tags": []
   },
   "outputs": [
    {
     "data": {
      "text/plain": [
       "datetime_utc\n",
       "1996-11-01     25.083115\n",
       "1996-11-02     47.493589\n",
       "1996-11-03     70.355550\n",
       "1996-11-04     92.409951\n",
       "1996-11-05    115.046884\n",
       "Freq: D, dtype: float64"
      ]
     },
     "execution_count": 45,
     "metadata": {},
     "output_type": "execute_result"
    }
   ],
   "source": [
    "predictions_ARIMA_diff_cumsum = predictions_ARIMA_diff.cumsum()\n",
    "predictions_ARIMA_diff_cumsum.head()"
   ]
  },
  {
   "cell_type": "code",
   "execution_count": 46,
   "metadata": {
    "execution": {
     "iopub.execute_input": "2021-02-28T15:27:24.487430Z",
     "iopub.status.busy": "2021-02-28T15:27:24.484219Z",
     "iopub.status.idle": "2021-02-28T15:27:24.670298Z",
     "shell.execute_reply": "2021-02-28T15:27:24.669722Z"
    },
    "papermill": {
     "duration": 0.27103,
     "end_time": "2021-02-28T15:27:24.670441",
     "exception": false,
     "start_time": "2021-02-28T15:27:24.399411",
     "status": "completed"
    },
    "tags": []
   },
   "outputs": [
    {
     "data": {
      "text/plain": [
       "[<matplotlib.lines.Line2D at 0x1ef46ec5240>]"
      ]
     },
     "execution_count": 46,
     "metadata": {},
     "output_type": "execute_result"
    },
    {
     "data": {
      "image/png": "[encoded data removed]",
      "text/plain": [
       "<Figure size 720x360 with 1 Axes>"
      ]
     },
     "metadata": {
      "needs_background": "light"
     },
     "output_type": "display_data"
    }
   ],
   "source": [
    "plt.figure(figsize=(10,5))\n",
    "plt.plot(weather_time_df)\n",
    "plt.plot(predictions_ARIMA_diff)"
   ]
  },
  {
   "cell_type": "markdown",
   "metadata": {
    "papermill": {
     "duration": 0.063557,
     "end_time": "2021-02-28T15:27:24.798090",
     "exception": false,
     "start_time": "2021-02-28T15:27:24.734533",
     "status": "completed"
    },
    "tags": []
   },
   "source": [
    "**From above plot, we can see that our predicted forecasts are very close to the real time series values. It also indicates a fairly accurate model.**"
   ]
  },
  {
   "cell_type": "code",
   "execution_count": 55,
   "metadata": {
    "execution": {
     "iopub.execute_input": "2021-02-28T15:27:25.077712Z",
     "iopub.status.busy": "2021-02-28T15:27:25.072481Z",
     "iopub.status.idle": "2021-02-28T15:27:25.777756Z",
     "shell.execute_reply": "2021-02-28T15:27:25.777196Z"
    },
    "papermill": {
     "duration": 0.788682,
     "end_time": "2021-02-28T15:27:25.777920",
     "exception": false,
     "start_time": "2021-02-28T15:27:24.989238",
     "status": "completed"
    },
    "tags": []
   },
   "outputs": [
    {
     "data": {
      "image/png": "[encoded data removed]",
      "text/plain": [
       "<Figure size 432x288 with 1 Axes>"
      ]
     },
     "execution_count": 55,
     "metadata": {},
     "output_type": "execute_result"
    },
    {
     "data": {
      "image/png": "[encoded data removed]",
      "text/plain": [
       "<Figure size 432x288 with 1 Axes>"
      ]
     },
     "metadata": {
      "needs_background": "light"
     },
     "output_type": "display_data"
    }
   ],
   "source": [
    "from statsmodels.graphics.tsaplots import plot_predict\n",
    "\n",
    "plot_predict(results_ARIMA,1,312)"
   ]
  },
  {
   "cell_type": "code",
   "execution_count": null,
   "metadata": {},
   "outputs": [],
   "source": []
  }
 ],
 "metadata": {
  "kernelspec": {
   "display_name": "Python 3 (ipykernel)",
   "language": "python",
   "name": "python3"
  },
  "language_info": {
   "codemirror_mode": {
    "name": "ipython",
    "version": 3
   },
   "file_extension": ".py",
   "mimetype": "text/x-python",
   "name": "python",
   "nbconvert_exporter": "python",
   "pygments_lexer": "ipython3",
   "version": "3.10.2"
  },
  "papermill": {
   "default_parameters": {},
   "duration": 22.494903,
   "end_time": "2021-02-28T15:27:26.822092",
   "environment_variables": {},
   "exception": null,
   "input_path": "__notebook__.ipynb",
   "output_path": "__notebook__.ipynb",
   "parameters": {},
   "start_time": "2021-02-28T15:27:04.327189",
   "version": "2.2.2"
  }
 },
 "nbformat": 4,
 "nbformat_minor": 4
}
